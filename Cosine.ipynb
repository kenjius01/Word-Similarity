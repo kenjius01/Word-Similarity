{
 "cells": [
  {
   "cell_type": "code",
   "execution_count": 56,
   "id": "7beca1dc-9c96-41f2-849d-7c907edd954a",
   "metadata": {},
   "outputs": [],
   "source": [
    "import numpy as np\n",
    "from numpy.linalg import norm\n",
    "from scipy import stats\n",
    "import pandas as pd\n",
    "from scipy import spatial\n",
    "import math"
   ]
  },
  {
   "cell_type": "code",
   "execution_count": 57,
   "id": "1f911bd8-b747-4fae-9313-33b54e6aec67",
   "metadata": {},
   "outputs": [],
   "source": [
    "def load_w2v(filename):\n",
    "    w2v = {}\n",
    "    w2vFile = open(filename, 'r', encoding='utf-8')\n",
    "    w2v_size = int(w2vFile.readline())\n",
    "    w2v_dim = int(w2vFile.readline())\n",
    "    for i in w2vFile:\n",
    "        s = i.split()\n",
    "        v = [float(val) for val in s[1:]]\n",
    "        w2v[s[0].strip()] = v\n",
    "    w2vFile.close()\n",
    "    return w2v"
   ]
  },
  {
   "cell_type": "code",
   "execution_count": 58,
   "id": "f3e45b32-1dea-4252-9100-d95c647037ed",
   "metadata": {},
   "outputs": [],
   "source": [
    "model = load_w2v('./W2V_150.txt')"
   ]
  },
  {
   "cell_type": "code",
   "execution_count": 59,
   "id": "cb03b198-f459-4907-b710-abcf414a7b1d",
   "metadata": {},
   "outputs": [],
   "source": [
    "def get_word_vector(word: str, model: dict):\n",
    "    if word not in model:\n",
    "        return []\n",
    "    return model[word]"
   ]
  },
  {
   "cell_type": "code",
   "execution_count": 83,
   "id": "331f7142-2101-41dd-b5e5-c213068926e0",
   "metadata": {},
   "outputs": [],
   "source": [
    "def calculate_similarity_two_word(first_word: str, second_word: str, model: dict):\n",
    "    first_word_vector = get_word_vector(first_word, model)\n",
    "    second_word_vector = get_word_vector(second_word, model)\n",
    "    if not first_word_vector:\n",
    "        print(\"There is no word '{}' in '{}'\".format(first_word, 'Model'))\n",
    "        return None\n",
    "    if not second_word_vector:\n",
    "        print(\"There is no word '{}' in '{}'\".format(second_word, 'Model'))\n",
    "        return None\n",
    "\n",
    "    # cosine_similarity = 1- float(spatial.distance.cosine(first_word_vector, second_word_vector))/2\n",
    "    cosine_similarity = np.dot(first_word_vector,second_word_vector)/(norm(first_word_vector)*norm(second_word_vector))\n",
    "    return cosine_similarity\n",
    "   "
   ]
  },
  {
   "cell_type": "code",
   "execution_count": 84,
   "id": "d6880ea9-4b6c-4ce5-bad4-7f3323df05ac",
   "metadata": {},
   "outputs": [
    {
     "name": "stdin",
     "output_type": "stream",
     "text": [
      "First word:  ưu\n",
      "Second word:  khuyết\n"
     ]
    },
    {
     "name": "stdout",
     "output_type": "stream",
     "text": [
      "Similarity of 2 word 'ưu' and 'khuyết' is: 0.17679862835626717\n"
     ]
    }
   ],
   "source": [
    "word1 = input(\"First word: \")\n",
    "word2 = input(\"Second word: \")\n",
    "similarity = calculate_similarity_two_word(word1, word2, model = model)\n",
    "print(\"Similarity of 2 word '{}' and '{}' is: {}\".format(word1, word2, similarity))"
   ]
  },
  {
   "cell_type": "code",
   "execution_count": 85,
   "id": "b519a553-b32b-44a4-ab92-64c5a0cdd8af",
   "metadata": {},
   "outputs": [
    {
     "name": "stdout",
     "output_type": "stream",
     "text": [
      "Similarity of 2 word is: 0.2770859598682775\n"
     ]
    }
   ],
   "source": [
    "similarity = calculate_similarity_two_word('động', 'tĩnh', model = model)\n",
    "print(\"Similarity of 2 word is: {}\".format(similarity))"
   ]
  },
  {
   "cell_type": "code",
   "execution_count": null,
   "id": "9e8b04e2-9e0b-4f44-af3e-a5194644fd2d",
   "metadata": {},
   "outputs": [],
   "source": []
  }
 ],
 "metadata": {
  "kernelspec": {
   "display_name": "Python 3 (ipykernel)",
   "language": "python",
   "name": "python3"
  },
  "language_info": {
   "codemirror_mode": {
    "name": "ipython",
    "version": 3
   },
   "file_extension": ".py",
   "mimetype": "text/x-python",
   "name": "python",
   "nbconvert_exporter": "python",
   "pygments_lexer": "ipython3",
   "version": "3.10.6"
  },
  "widgets": {
   "application/vnd.jupyter.widget-state+json": {
    "state": {},
    "version_major": 2,
    "version_minor": 0
   }
  }
 },
 "nbformat": 4,
 "nbformat_minor": 5
}
