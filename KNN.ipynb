{
 "cells": [
  {
   "cell_type": "code",
   "execution_count": 61,
   "id": "82e17fdd-e04d-470f-b6fa-30f48b0efb0c",
   "metadata": {},
   "outputs": [],
   "source": [
    "import numpy as np\n",
    "from numpy.linalg import norm\n",
    "import math"
   ]
  },
  {
   "cell_type": "code",
   "execution_count": 62,
   "id": "c10766a1-2ea7-4f54-a08b-49a0ce9b0430",
   "metadata": {},
   "outputs": [],
   "source": [
    "def load_w2v(filename):\n",
    "    w2v = {}\n",
    "    w2vFile = open(filename, 'r', encoding='utf-8')\n",
    "    w2v_size = int(w2vFile.readline())\n",
    "    w2v_dim = int(w2vFile.readline())\n",
    "    for i in w2vFile:\n",
    "        s = i.split()\n",
    "        v = [float(val) for val in s[1:]]\n",
    "        w2v[s[0].strip()] = v\n",
    "    w2vFile.close()\n",
    "    return w2v"
   ]
  },
  {
   "cell_type": "code",
   "execution_count": 63,
   "id": "10f3d33c-bad2-4cad-9df1-ca73b9c6f4aa",
   "metadata": {},
   "outputs": [],
   "source": [
    "def get_word_vector(word: str, model: dict):\n",
    "    if word not in model:\n",
    "        return []\n",
    "    return model[word]"
   ]
  },
  {
   "cell_type": "code",
   "execution_count": 64,
   "id": "825271da-7a8e-4489-a74c-04f72e66a61d",
   "metadata": {},
   "outputs": [],
   "source": [
    "def calculate_similarity_two_word(first_word: str, second_word: str, model: dict):\n",
    "    first_word_vector = get_word_vector(first_word, model)\n",
    "    second_word_vector = get_word_vector(second_word, model)\n",
    "    if not first_word_vector:\n",
    "        print(\"There is no word '{}' in '{}'\".format(first_word, 'Model'))\n",
    "        return None\n",
    "    if not second_word_vector:\n",
    "        print(\"There is no word '{}' in '{}'\".format(second_word, 'Model'))\n",
    "        return None\n",
    "\n",
    "    # cosine_similarity = 1- float(spatial.distance.cosine(first_word_vector, second_word_vector))/2\n",
    "    cosine_similarity = np.dot(first_word_vector,second_word_vector)/(norm(first_word_vector)*norm(second_word_vector))\n",
    "    return cosine_similarity\n",
    "   "
   ]
  },
  {
   "cell_type": "code",
   "execution_count": 65,
   "id": "5e40b684-9463-4041-bc7b-7dc2855e084f",
   "metadata": {},
   "outputs": [],
   "source": [
    "def find_K_nearest_word(input_word: str, k_parameter: int, model: dict) -> list:\n",
    "    word_dict = {}\n",
    "    word_list = []\n",
    "\n",
    "    for word in model:\n",
    "        word_dict[word] = calculate_similarity_two_word(input_word, word, model)\n",
    "\n",
    "    sorted_dict = dict(sorted(word_dict.items(), key=lambda item: item[1], reverse=True))\n",
    "\n",
    "    for word in sorted_dict:\n",
    "        word_list.append(word)\n",
    "\n",
    "    return word_list[1 : k_parameter + 1 ]"
   ]
  },
  {
   "cell_type": "code",
   "execution_count": 68,
   "id": "bc372fed-185c-48ed-8c89-7346c7443e63",
   "metadata": {},
   "outputs": [
    {
     "name": "stdin",
     "output_type": "stream",
     "text": [
      "Type input:  biển\n",
      "K paramater:  10\n"
     ]
    },
    {
     "name": "stdout",
     "output_type": "stream",
     "text": [
      "The most 10 nearest words with 'biển' are:\n",
      "vùng_biển\n",
      "bãi_biển\n",
      "bờ_biển\n",
      "biển_đông\n",
      "mặt_biển\n",
      "sông_trà_khúc\n",
      "phá_tam_giang\n",
      "vịnh\n",
      "bán_đảo\n",
      "biển_cả\n"
     ]
    }
   ],
   "source": [
    "model = load_w2v('./W2V_150.txt')\n",
    "input_word = input(\"Type input: \")\n",
    "k_parameter = int(input(\"K paramater: \"))\n",
    "list_nearest = find_K_nearest_word(input_word, k_parameter, model)\n",
    "print(\"The most {} nearest words with '{}' are:\".format(k_parameter, input_word))\n",
    "for word in list_nearest:\n",
    "    print(word)\n"
   ]
  },
  {
   "cell_type": "code",
   "execution_count": null,
   "id": "6839e105-fdfa-4dda-83b2-bf48380d8b15",
   "metadata": {},
   "outputs": [],
   "source": []
  }
 ],
 "metadata": {
  "kernelspec": {
   "display_name": "Python 3 (ipykernel)",
   "language": "python",
   "name": "python3"
  },
  "language_info": {
   "codemirror_mode": {
    "name": "ipython",
    "version": 3
   },
   "file_extension": ".py",
   "mimetype": "text/x-python",
   "name": "python",
   "nbconvert_exporter": "python",
   "pygments_lexer": "ipython3",
   "version": "3.10.6"
  },
  "widgets": {
   "application/vnd.jupyter.widget-state+json": {
    "state": {},
    "version_major": 2,
    "version_minor": 0
   }
  }
 },
 "nbformat": 4,
 "nbformat_minor": 5
}
